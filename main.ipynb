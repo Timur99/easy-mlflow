{
 "cells": [
  {
   "cell_type": "markdown",
   "source": [],
   "metadata": {
    "collapsed": false
   },
   "id": "19daff40343bf10a"
  },
  {
   "cell_type": "markdown",
   "source": [
    "## Easy MLFlow"
   ],
   "metadata": {
    "collapsed": false
   },
   "id": "2a10046fdab42ef"
  },
  {
   "cell_type": "code",
   "execution_count": null,
   "id": "initial_id",
   "metadata": {
    "collapsed": true
   },
   "outputs": [],
   "source": [
    "import pandas as pd\n",
    "import numpy\n",
    "import matplotlib.pyplot as plt\n",
    "import seaborn as sns\n",
    "import mlflow\n",
    "from sklearn.ensemble import RandomForestClassifier\n",
    "from sklearn.linear_model import LinearRegression\n",
    "from sklearn.linear_model import LogisticRegression\n",
    "\n",
    "train_data = pd.read_csv(\"train.csv\")\n",
    "test_data = pd.read_csv(\"test.csv\")"
   ]
  },
  {
   "cell_type": "code",
   "outputs": [],
   "source": [
    "train_data.head()"
   ],
   "metadata": {
    "collapsed": false
   },
   "id": "21f8379ac0b2512",
   "execution_count": null
  },
  {
   "cell_type": "code",
   "outputs": [],
   "source": [
    "train_data.info()"
   ],
   "metadata": {
    "collapsed": false
   },
   "id": "f5b56f5157e8f2b"
  },
  {
   "cell_type": "code",
   "outputs": [],
   "source": [
    "train_data.isnull().sum()"
   ],
   "metadata": {
    "collapsed": false
   },
   "id": "4ca3d0d7f0543dd5"
  },
  {
   "cell_type": "code",
   "outputs": [],
   "source": [
    "sns.countplot(x=\"Survived\", data=train_data);"
   ],
   "metadata": {
    "collapsed": false
   },
   "id": "de8c538b8f41f742",
   "execution_count": null
  },
  {
   "cell_type": "code",
   "outputs": [],
   "source": [
    "sns.countplot(x=\"Survived\", hue=\"Sex\", data=train_data);"
   ],
   "metadata": {
    "collapsed": false
   },
   "id": "4b4605ebba20e1e4",
   "execution_count": null
  },
  {
   "cell_type": "code",
   "outputs": [],
   "source": [
    "features = [\"Sex\", \"Pclass\", \"SibSp\", \"Parch\"]\n",
    "X = pd.get_dummies(train_data[features])\n",
    "X_test = pd.get_dummies(test_data[features])\n",
    "\n",
    "train_data.drop([\"Sex\", \"Pclass\", \"SibSp\", \"Parch\", \"Name\"], axis=1, inplace=True)\n",
    "test_data.drop([\"Sex\", \"Pclass\", \"SibSp\", \"Parch\", \"Name\"], axis=1, inplace=True)\n",
    "\n",
    "train_df = train_data[['Fare']].join(X)\n",
    "test_df = test_data[['Fare']].join(X_test)"
   ],
   "metadata": {
    "collapsed": false
   },
   "id": "3ff7413516947bed",
   "execution_count": null
  },
  {
   "cell_type": "code",
   "outputs": [],
   "source": [
    "# Calculating the correlation matrix\n",
    "corr_matrix = train_df.corr()\n",
    "\n",
    "# Visualizing the correlation matrix\n",
    "plt.figure(figsize=(8, 6))\n",
    "sns.heatmap(corr_matrix, annot=True, cmap=\"coolwarm\", fmt=\".2f\")\n",
    "plt.title(\"correlation matrix\")\n",
    "plt.show()"
   ],
   "metadata": {
    "collapsed": false
   },
   "id": "669fc8701ddc661f",
   "execution_count": null
  },
  {
   "cell_type": "code",
   "outputs": [],
   "source": [
    "y = train_data[\"Survived\"]"
   ],
   "metadata": {
    "collapsed": false
   },
   "id": "98c80590d6380474"
  },
  {
   "cell_type": "code",
   "outputs": [],
   "source": [
    "# Connect to the MLflow server\n",
    "mlflow.set_tracking_uri(\"http://127.0.0.1:8080\")\n",
    "# Let's fix the current name of the experiment\n",
    "embeddings_experiment = mlflow.set_experiment(\"Titanic\")\n",
    "# Fix the name of the current launch; if you don’t fix it, it will be auto-generated\n",
    "tf_idf_run_name = \"RFC\"\n",
    "\n",
    "with mlflow.start_run(run_name=tf_idf_run_name) as run:\n",
    "    mlflow.sklearn.autolog()\n",
    "    model = RandomForestClassifier(n_estimators=100, max_depth=5, random_state=1)\n",
    "    model.fit(train_df, y) "
   ],
   "metadata": {
    "collapsed": false
   },
   "id": "a6b0c8a7df7d03aa"
  },
  {
   "cell_type": "code",
   "outputs": [],
   "source": [
    "mlflow.set_tracking_uri(\"http://127.0.0.1:8080\")\n",
    "embeddings_experiment = mlflow.set_experiment(\"Titanic\")\n",
    "tf_idf_run_name = \"LinR\"\n",
    "\n",
    "with mlflow.start_run(run_name=tf_idf_run_name) as run:\n",
    "    mlflow.sklearn.autolog()\n",
    "    model_lr = LinearRegression()\n",
    "    model_lr.fit(train_df, y)"
   ],
   "metadata": {
    "collapsed": false
   },
   "id": "8a5cda2aa2c87d76"
  },
  {
   "cell_type": "code",
   "outputs": [],
   "source": [
    "mlflow.set_tracking_uri(\"http://127.0.0.1:8080\")\n",
    "embeddings_experiment = mlflow.set_experiment(\"Titanic\")\n",
    "tf_idf_run_name = \"logR\"\n",
    "\n",
    "with mlflow.start_run(run_name=tf_idf_run_name) as run:\n",
    "    mlflow.sklearn.autolog()\n",
    "    model_lr = LogisticRegression()\n",
    "    model_lr.fit(train_df, y)"
   ],
   "metadata": {
    "collapsed": false
   },
   "id": "cd59a07cb9737d25"
  }
 ],
 "metadata": {
  "kernelspec": {
   "display_name": "Python 3",
   "language": "python",
   "name": "python3"
  },
  "language_info": {
   "codemirror_mode": {
    "name": "ipython",
    "version": 2
   },
   "file_extension": ".py",
   "mimetype": "text/x-python",
   "name": "python",
   "nbconvert_exporter": "python",
   "pygments_lexer": "ipython2",
   "version": "2.7.6"
  }
 },
 "nbformat": 4,
 "nbformat_minor": 5
}
